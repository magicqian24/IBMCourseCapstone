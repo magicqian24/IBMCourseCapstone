{
 "cells": [
  {
   "cell_type": "markdown",
   "metadata": {},
   "source": [
    "# 1. Introduction"
   ]
  },
  {
   "cell_type": "markdown",
   "metadata": {},
   "source": [
    "Toronto is no doubt a fascinating and diverse metropolis, attracting people from all over the world. It is recognised as one of the most cosmopolitan cities in the world and thus one of the most attractive cities for immigrants to settle. Such a multicultural background has therefore cultivated a vibrant food culture. Being an essential of life, choices of available food is definitely a significant factor when choosing the neighbourhood to reside in. Since Toronto has one of the largest Chinese population in North America, this project aims to analysis the quantity and quality of Chinese restaurants within each neighbourhoods. This would help local Chinese, new immigrants or whoever that loves Chinese food to make better informed choices when deciding their new homes."
   ]
  },
  {
   "cell_type": "markdown",
   "metadata": {},
   "source": [
    "# 2. Data"
   ]
  },
  {
   "cell_type": "markdown",
   "metadata": {},
   "source": [
    "1. **Wikipedia page to obtain Toronto’s neighbourhood boroughs information.** \n",
    "This data source contains a list of all bouroughs and their corresponding postal codes and neighbourhood within.\n",
    "\n",
    "Source: https://en.wikipedia.org/wiki/List_of_postal_codes_of_Canada:_M\n",
    "\n",
    "2. **url file and Geocoder package for geographical information.** \n",
    "This url file contains latitude and longtitude of very postal codes of Toronto. This data will be combined with data 1 to obtain the location data of Toronto neighbourhoods\n",
    "\n",
    "Source: http://cocl.us/Geospatial_data\n",
    "\n",
    "3. **Foursquare to obtain information on Chinese restaurants within each venue.** \n",
    "This includes quantities and ratings of available restaurants."
   ]
  },
  {
   "cell_type": "code",
   "execution_count": null,
   "metadata": {},
   "outputs": [],
   "source": []
  }
 ],
 "metadata": {
  "kernelspec": {
   "display_name": "Python 3",
   "language": "python",
   "name": "python3"
  },
  "language_info": {
   "codemirror_mode": {
    "name": "ipython",
    "version": 3
   },
   "file_extension": ".py",
   "mimetype": "text/x-python",
   "name": "python",
   "nbconvert_exporter": "python",
   "pygments_lexer": "ipython3",
   "version": "3.7.4"
  }
 },
 "nbformat": 4,
 "nbformat_minor": 2
}
